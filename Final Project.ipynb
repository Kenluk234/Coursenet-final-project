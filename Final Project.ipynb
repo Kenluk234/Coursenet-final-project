git init
git add README.md  
git add EDA & Data Preprocessing 4/11.ipynb
git commit -m "notebook first commit" 
git remote add origin "C:\Users\kenlu\Downloads\EDA_&_Data_Preprocessing_4_11.ipynb"
6. git push -u origin master 
